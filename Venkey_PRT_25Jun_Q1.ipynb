{
  "nbformat": 4,
  "nbformat_minor": 0,
  "metadata": {
    "colab": {
      "provenance": [],
      "authorship_tag": "ABX9TyMtD+ed6kKW7zfPpskys70X",
      "include_colab_link": true
    },
    "kernelspec": {
      "name": "python3",
      "display_name": "Python 3"
    },
    "language_info": {
      "name": "python"
    }
  },
  "cells": [
    {
      "cell_type": "markdown",
      "metadata": {
        "id": "view-in-github",
        "colab_type": "text"
      },
      "source": [
        "<a href=\"https://colab.research.google.com/github/venkeyGithub/venkeyGithub/blob/main/Venkey_PRT_25Jun_Q1.ipynb\" target=\"_parent\"><img src=\"https://colab.research.google.com/assets/colab-badge.svg\" alt=\"Open In Colab\"/></a>"
      ]
    },
    {
      "cell_type": "code",
      "source": [
        "import csv\n",
        "\n",
        "class FlightBooking:\n",
        "    def __init__(self):\n",
        "        self.bookings = {}\n",
        "        self.delays = {\n",
        "            'Economy': 15,\n",
        "            'Business': 10,\n",
        "            'First Class': 5,\n",
        "            # Add more booking classes and average delay times as needed\n",
        "        }\n",
        "\n",
        "    def load_bookings_from_csv(self, filename):\n",
        "        with open(filename, 'r') as file:\n",
        "            reader = csv.DictReader(file)\n",
        "            for row in reader:\n",
        "                passenger_name = row['Name']\n",
        "                booking_class = row['Booking Class']\n",
        "                self.bookings[passenger_name] = booking_class\n",
        "\n",
        "    def get_average_delay(self, passenger_name):\n",
        "        booking_class = self.bookings.get(passenger_name)\n",
        "        if booking_class:\n",
        "            average_delay = self.delays.get(booking_class)\n",
        "            if average_delay:\n",
        "                return average_delay\n",
        "            else:\n",
        "                return f\"Average delay time for {booking_class} class is not available.\"\n",
        "        else:\n",
        "            return f\"No booking found for passenger {passenger_name}.\"\n",
        "\n",
        "\n",
        "# Example usage:\n",
        "booking = FlightBooking()\n",
        "booking.load_bookings_from_csv(r'/content/Flight_data.csv')\n",
        "\n",
        "passenger_name = 'Daniel Oliver'\n",
        "average_delay = booking.get_average_delay(passenger_name)\n",
        "print(f\"The average delay for passenger {passenger_name} is {average_delay} minutes.\")"
      ],
      "metadata": {
        "colab": {
          "base_uri": "https://localhost:8080/"
        },
        "id": "r7vNDNHzLUzQ",
        "outputId": "09374342-b4fa-47af-89a3-ceefc0d99e9b"
      },
      "execution_count": 36,
      "outputs": [
        {
          "output_type": "stream",
          "name": "stdout",
          "text": [
            "The average delay for passenger Daniel Oliver is 10 minutes.\n"
          ]
        }
      ]
    }
  ]
}